{
 "cells": [
  {
   "cell_type": "code",
   "execution_count": null,
   "metadata": {},
   "outputs": [],
   "source": [
    "#this is test note about helm functions\n",
    "\n",
    "#how to run helm install command for debug purpose:\n",
    "helm install $release_name --debug --dry-run Tem_functions/ \n",
    "\n",
    "#Note about named template and how to use it.\n",
    "    #named template: in helm a template is a yaml file. Expand that, we have concept called named-template which is a templated but is define in a file\n",
    "    #and named template is acting like a template.\n",
    "    # to define named template we use function define, to use named template \n",
    "\n",
    "#Note about template vs include\n",
    "    # template will help you reference to named template. However, you can not apply function on that value. to reference to a template and then apply function on it use include \n"
   ]
  },
  {
   "cell_type": "code",
   "execution_count": null,
   "metadata": {},
   "outputs": [],
   "source": [
    "#Note in this section is from the link: https://helm.sh/docs/chart_best_practices/templates/\n",
    "#Note about helm template best practice:\n",
    "    #template should be create with helm command: helm create\n",
    "\n",
    "#Note about template structure directory:\n",
    "    #template file should have extension .yaml (for yaml structure) or .tpl (for unstructure)\n",
    "    # template name should use dash not camelcase (my-example-configmap.yaml).\n",
    "    # each resource should be in it own template file.\n",
    "    # template file name reflect resource, example foo-pod.ymal, bar-svc.yaml\n",
    "\n",
    "#Note about named template\n",
    "    # we use define function to define named template\n",
    "    # all named template should be namepaced, example nginx.fullname instead of just fullname\n",
    "\n",
    "#Note about formatting in template:\n",
    "    # templates should be indented using two space (never tab)\n",
    "    # template directive should have on whitespace after the  opening brace and one whitespace before the closing  brace\n",
    "    # template shoulb chomp (or remove) whitespace when possible. use syntax - to remove whitespace\n",
    "\n",
    "#Note about whitespace in auto generated template:\n",
    "    # keep whitespace minimal in auto generated template\n",
    "\n",
    "#Note about comments in helm\n",
    "    # helm support yaml comment (one line comment) and template comments (multiple lines comment)\n",
    "    # please take a look in comments section at: https://helm.sh/docs/chart_best_practices/templates/\n",
    "    # template comments should be use to document template feature, yaml comment use when you want use can read in debug process\n",
    "\n",
    "#Note about use json syntax:\n",
    "    # sometime use json syntax is more readable than yaml syntax\n",
    "    # for example reference to the link: https://helm.sh/docs/chart_best_practices/templates/\n",
    "\n",
    "#Note label or annotation:\n",
    "    #we use label for a resource so that other resource an query it. example, service will use pods label to query pods and communicate with them\n",
    "    #if use annotation if the purpose is to explain resource instead of query.\n",
    "\n"
   ]
  },
  {
   "cell_type": "code",
   "execution_count": null,
   "metadata": {},
   "outputs": [],
   "source": [
    "#Note about pod and podTemplates\n",
    "\n",
    "#when define pod and podtemplates, we should specify: image, imagePollPolicy\n",
    "#podtemplate shouls always have label and selector.\n",
    "\n",
    "\n"
   ]
  }
 ],
 "metadata": {
  "language_info": {
   "name": "python"
  },
  "orig_nbformat": 4
 },
 "nbformat": 4,
 "nbformat_minor": 2
}
