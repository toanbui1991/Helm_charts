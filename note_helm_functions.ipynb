{
 "cells": [
  {
   "cell_type": "code",
   "execution_count": null,
   "metadata": {},
   "outputs": [],
   "source": [
    "#this is test note about helm functions\n",
    "\n",
    "#how to run helm install command for debug purpose:\n",
    "helm install $release_name --debug --dry-run Tem_functions/ \n",
    "\n",
    "#Note about named template and how to use it.\n",
    "    #named template: in helm a template is a yaml file. Expand that, we have concept called named-template which is a templated but is define in a file\n",
    "    #and named template is acting like a template.\n",
    "    # to define named template we use function define, to use named template \n",
    "\n",
    "#Note about template vs include\n",
    "    # template will help you reference to named template. However, you can not apply function on that value. to reference to a template and then apply function on it use include \n"
   ]
  },
  {
   "cell_type": "code",
   "execution_count": null,
   "metadata": {},
   "outputs": [],
   "source": [
    "#Note in this section is from the link: https://helm.sh/docs/chart_best_practices/templates/\n",
    "#Note about helm template best practice:\n",
    "    #template should be create with helm command: helm create\n",
    "\n",
    "#Note about template structure directory:\n",
    "    #template file should have extension .yaml (for yaml structure) or .tpl (for unstructure)\n",
    "    # template name should use dash not camelcase (my-example-configmap.yaml).\n",
    "    # each resource should be in it own template file.\n",
    "    # template file name reflect resource, example foo-pod.ymal, bar-svc.yaml\n",
    "\n",
    "#Note about named template\n",
    "    # we use define function to define named template\n",
    "    # all named template should be namepaced, example nginx.fullname instead of just fullname\n",
    "\n",
    "#Note about formatting in template:\n",
    "    # templates should be indented using two space (never tab)\n",
    "    # template directive should have on whitespace after the  opening brace and one whitespace before the closing  brace\n",
    "    # template shoulb chomp (or remove) whitespace when possible. use syntax - to remove whitespace\n",
    "\n",
    "#Note about whitespace in auto generated template:\n",
    "    # keep whitespace minimal in auto generated template\n",
    "\n",
    "#Note about comments in helm\n",
    "    # helm support yaml comment (one line comment) and template comments (multiple lines comment)\n",
    "    # please take a look in comments section at: https://helm.sh/docs/chart_best_practices/templates/\n",
    "    # template comments should be use to document template feature, yaml comment use when you want use can read in debug process\n",
    "\n",
    "#Note about use json syntax:\n",
    "    # sometime use json syntax is more readable than yaml syntax\n",
    "    # for example reference to the link: https://helm.sh/docs/chart_best_practices/templates/\n",
    "\n",
    "#Note label or annotation:\n",
    "    #we use label for a resource so that other resource an query it. example, service will use pods label to query pods and communicate with them\n",
    "    #if use annotation if the purpose is to explain resource instead of query.\n",
    "\n"
   ]
  },
  {
   "cell_type": "code",
   "execution_count": null,
   "metadata": {},
   "outputs": [],
   "source": [
    "#Note about pod and podTemplates\n",
    "\n",
    "#when define pod and podtemplates, we should specify: image, imagePollPolicy\n",
    "#podtemplate shouls always have label and selector.\n",
    "\n",
    "\n"
   ]
  },
  {
   "cell_type": "code",
   "execution_count": null,
   "metadata": {},
   "outputs": [],
   "source": [
    "#Note about named template\n",
    "\n",
    "#Note about named template example-1\n",
    "    #define named template use define syntax\n",
    "    #reference named template using template or include function\n",
    "    #use range syntax for looping\n",
    "    #the script also use built-in object like Release, Values\n",
    "#Note about named template example-2\n",
    "    #in this example, we define named template in _helper.tpl and then reference to functions.yaml with function template or include\n",
    "\n",
    "#Note about the different between example-3, example-4. the different between template and include function\n",
    "    #template in example-3 cause error due to indent problem\n",
    "    #include in example-4 help us apply function to it result, {{ include 'named-template' | indent 4 }}"
   ]
  },
  {
   "cell_type": "code",
   "execution_count": null,
   "metadata": {},
   "outputs": [],
   "source": [
    "#Note about flow-control in helm\n",
    "\n",
    "#Note about if else if \n",
    "{{ if eq .Values.favorite.drink \"coffee\" }}mug: true{{ end }}\n",
    "#above syntax for one if confition using helm syntax: \n",
    "\n",
    "#Note about the different between if-else example-1, example-2\n",
    "    #example-1, syntax for write if condition in one line\n",
    "    # example-2, syntax for write if else condition in multiple line. we also use - character to manage whitespace character\n",
    "\n",
    "#Note about range example\n",
    "    #in this example, we use function with and range\n",
    "    #with allow us to reduce the scopte, after reduce the scope we can reference .drink, .food\n",
    "    #range allow us to reference to a list of element\n",
    "\n",
    "#Note about with example:\n",
    "    #in this example, we use with function. which allow us to reference varible in smaller scope.\n",
    "    #for example .drink instead of .Values.favorite.drink\n"
   ]
  },
  {
   "cell_type": "code",
   "execution_count": null,
   "metadata": {},
   "outputs": [],
   "source": [
    "#Note about helm hook\n",
    "\n",
    "    #hook allow us to intervent between different state of the life cycle\n",
    "    #example of hook application:\n",
    "        #load ConfigMap or Secret before load any chart\n",
    "        #execute backup database before install new chart, and then execute second job upgrade to restore database\n",
    "    \n",
    "#Note about available hook:\n",
    "    #pre-install\n",
    "    #post-install\n",
    "    #pre-delete\n",
    "    #post-delete"
   ]
  },
  {
   "cell_type": "code",
   "execution_count": null,
   "metadata": {},
   "outputs": [],
   "source": [
    "#Note about helm hook and then multiple environment with helm"
   ]
  },
  {
   "cell_type": "code",
   "execution_count": null,
   "metadata": {},
   "outputs": [],
   "source": [
    "#Note about helm, kubernetes and role based access control\n",
    "\n",
    "#Note about namespace in kubernetes:\n",
    "    #namespace is a concept for scoping resource in kubernetes cluster. we will have cluster-wide resource name and resource name which is scoped within namespace.\n",
    "    #source within a namespace have to be unique\n",
    "\n",
    "#Note about concept in role based access control:\n",
    "    # ServiceAccount (namespace)\n",
    "    # Role (namespace)\n",
    "    # ClusterRole ()\n",
    "    # RoleBiding (namespace)\n",
    "    # ClusterRoleBiding"
   ]
  },
  {
   "cell_type": "code",
   "execution_count": null,
   "metadata": {},
   "outputs": [],
   "source": [
    "#Note about helm template debug\n",
    "    #to check that, you have follow best pratice in writing helm use command: helm lint\n",
    "    #to render template files without install kubernetes resource: helm install --dry-run --debug\n",
    "    #to get what templates are install on server use command: helm get manifest\n"
   ]
  }
 ],
 "metadata": {
  "language_info": {
   "name": "python"
  },
  "orig_nbformat": 4
 },
 "nbformat": 4,
 "nbformat_minor": 2
}
